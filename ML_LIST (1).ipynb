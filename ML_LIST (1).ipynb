{
  "cells": [
    {
      "cell_type": "code",
      "execution_count": 1,
      "metadata": {
        "id": "p13Iej4eD7Fp"
      },
      "outputs": [],
      "source": [
        "import pandas as pd\n",
        "import itertools\n",
        "import sklearn.preprocessing"
      ]
    },
    {
      "cell_type": "code",
      "execution_count": 2,
      "metadata": {
        "colab": {
          "base_uri": "https://localhost:8080/",
          "height": 175
        },
        "id": "YsXwKD6DDtcB",
        "outputId": "2ba2e256-1d8e-4164-f07d-f8b4661a7105"
      },
      "outputs": [
        {
          "output_type": "execute_result",
          "data": {
            "text/plain": [
              "       0     1       2       3     4       5  6\n",
              "1  Sunny  Warm  Normal  Strong  Warm    Same  1\n",
              "2  Sunny  Warm    High  Strong  Warm    Same  1\n",
              "3  Rainy  Cold    High  Strong  Warm  Change  0\n",
              "4  Sunny  Warm    High  Strong  Cool  Change  1"
            ],
            "text/html": [
              "\n",
              "  <div id=\"df-205905cb-85b6-480a-8fcc-31d6eaf44aa2\">\n",
              "    <div class=\"colab-df-container\">\n",
              "      <div>\n",
              "<style scoped>\n",
              "    .dataframe tbody tr th:only-of-type {\n",
              "        vertical-align: middle;\n",
              "    }\n",
              "\n",
              "    .dataframe tbody tr th {\n",
              "        vertical-align: top;\n",
              "    }\n",
              "\n",
              "    .dataframe thead th {\n",
              "        text-align: right;\n",
              "    }\n",
              "</style>\n",
              "<table border=\"1\" class=\"dataframe\">\n",
              "  <thead>\n",
              "    <tr style=\"text-align: right;\">\n",
              "      <th></th>\n",
              "      <th>0</th>\n",
              "      <th>1</th>\n",
              "      <th>2</th>\n",
              "      <th>3</th>\n",
              "      <th>4</th>\n",
              "      <th>5</th>\n",
              "      <th>6</th>\n",
              "    </tr>\n",
              "  </thead>\n",
              "  <tbody>\n",
              "    <tr>\n",
              "      <th>1</th>\n",
              "      <td>Sunny</td>\n",
              "      <td>Warm</td>\n",
              "      <td>Normal</td>\n",
              "      <td>Strong</td>\n",
              "      <td>Warm</td>\n",
              "      <td>Same</td>\n",
              "      <td>1</td>\n",
              "    </tr>\n",
              "    <tr>\n",
              "      <th>2</th>\n",
              "      <td>Sunny</td>\n",
              "      <td>Warm</td>\n",
              "      <td>High</td>\n",
              "      <td>Strong</td>\n",
              "      <td>Warm</td>\n",
              "      <td>Same</td>\n",
              "      <td>1</td>\n",
              "    </tr>\n",
              "    <tr>\n",
              "      <th>3</th>\n",
              "      <td>Rainy</td>\n",
              "      <td>Cold</td>\n",
              "      <td>High</td>\n",
              "      <td>Strong</td>\n",
              "      <td>Warm</td>\n",
              "      <td>Change</td>\n",
              "      <td>0</td>\n",
              "    </tr>\n",
              "    <tr>\n",
              "      <th>4</th>\n",
              "      <td>Sunny</td>\n",
              "      <td>Warm</td>\n",
              "      <td>High</td>\n",
              "      <td>Strong</td>\n",
              "      <td>Cool</td>\n",
              "      <td>Change</td>\n",
              "      <td>1</td>\n",
              "    </tr>\n",
              "  </tbody>\n",
              "</table>\n",
              "</div>\n",
              "      <button class=\"colab-df-convert\" onclick=\"convertToInteractive('df-205905cb-85b6-480a-8fcc-31d6eaf44aa2')\"\n",
              "              title=\"Convert this dataframe to an interactive table.\"\n",
              "              style=\"display:none;\">\n",
              "        \n",
              "  <svg xmlns=\"http://www.w3.org/2000/svg\" height=\"24px\"viewBox=\"0 0 24 24\"\n",
              "       width=\"24px\">\n",
              "    <path d=\"M0 0h24v24H0V0z\" fill=\"none\"/>\n",
              "    <path d=\"M18.56 5.44l.94 2.06.94-2.06 2.06-.94-2.06-.94-.94-2.06-.94 2.06-2.06.94zm-11 1L8.5 8.5l.94-2.06 2.06-.94-2.06-.94L8.5 2.5l-.94 2.06-2.06.94zm10 10l.94 2.06.94-2.06 2.06-.94-2.06-.94-.94-2.06-.94 2.06-2.06.94z\"/><path d=\"M17.41 7.96l-1.37-1.37c-.4-.4-.92-.59-1.43-.59-.52 0-1.04.2-1.43.59L10.3 9.45l-7.72 7.72c-.78.78-.78 2.05 0 2.83L4 21.41c.39.39.9.59 1.41.59.51 0 1.02-.2 1.41-.59l7.78-7.78 2.81-2.81c.8-.78.8-2.07 0-2.86zM5.41 20L4 18.59l7.72-7.72 1.47 1.35L5.41 20z\"/>\n",
              "  </svg>\n",
              "      </button>\n",
              "      \n",
              "  <style>\n",
              "    .colab-df-container {\n",
              "      display:flex;\n",
              "      flex-wrap:wrap;\n",
              "      gap: 12px;\n",
              "    }\n",
              "\n",
              "    .colab-df-convert {\n",
              "      background-color: #E8F0FE;\n",
              "      border: none;\n",
              "      border-radius: 50%;\n",
              "      cursor: pointer;\n",
              "      display: none;\n",
              "      fill: #1967D2;\n",
              "      height: 32px;\n",
              "      padding: 0 0 0 0;\n",
              "      width: 32px;\n",
              "    }\n",
              "\n",
              "    .colab-df-convert:hover {\n",
              "      background-color: #E2EBFA;\n",
              "      box-shadow: 0px 1px 2px rgba(60, 64, 67, 0.3), 0px 1px 3px 1px rgba(60, 64, 67, 0.15);\n",
              "      fill: #174EA6;\n",
              "    }\n",
              "\n",
              "    [theme=dark] .colab-df-convert {\n",
              "      background-color: #3B4455;\n",
              "      fill: #D2E3FC;\n",
              "    }\n",
              "\n",
              "    [theme=dark] .colab-df-convert:hover {\n",
              "      background-color: #434B5C;\n",
              "      box-shadow: 0px 1px 3px 1px rgba(0, 0, 0, 0.15);\n",
              "      filter: drop-shadow(0px 1px 2px rgba(0, 0, 0, 0.3));\n",
              "      fill: #FFFFFF;\n",
              "    }\n",
              "  </style>\n",
              "\n",
              "      <script>\n",
              "        const buttonEl =\n",
              "          document.querySelector('#df-205905cb-85b6-480a-8fcc-31d6eaf44aa2 button.colab-df-convert');\n",
              "        buttonEl.style.display =\n",
              "          google.colab.kernel.accessAllowed ? 'block' : 'none';\n",
              "\n",
              "        async function convertToInteractive(key) {\n",
              "          const element = document.querySelector('#df-205905cb-85b6-480a-8fcc-31d6eaf44aa2');\n",
              "          const dataTable =\n",
              "            await google.colab.kernel.invokeFunction('convertToInteractive',\n",
              "                                                     [key], {});\n",
              "          if (!dataTable) return;\n",
              "\n",
              "          const docLinkHtml = 'Like what you see? Visit the ' +\n",
              "            '<a target=\"_blank\" href=https://colab.research.google.com/notebooks/data_table.ipynb>data table notebook</a>'\n",
              "            + ' to learn more about interactive tables.';\n",
              "          element.innerHTML = '';\n",
              "          dataTable['output_type'] = 'display_data';\n",
              "          await google.colab.output.renderOutput(dataTable, element);\n",
              "          const docLink = document.createElement('div');\n",
              "          docLink.innerHTML = docLinkHtml;\n",
              "          element.appendChild(docLink);\n",
              "        }\n",
              "      </script>\n",
              "    </div>\n",
              "  </div>\n",
              "  "
            ]
          },
          "metadata": {},
          "execution_count": 2
        }
      ],
      "source": [
        "df=pd.read_csv(r'/content/ENJOYSPORT.csv',header=None)\n",
        "df.drop(0,axis=0,inplace=True)\n",
        "df.head()"
      ]
    },
    {
      "cell_type": "code",
      "execution_count": 3,
      "metadata": {
        "id": "NtqT7KlMJpSj"
      },
      "outputs": [],
      "source": [
        "row_len,col_len=df.shape"
      ]
    },
    {
      "cell_type": "code",
      "execution_count": 4,
      "metadata": {
        "id": "ObaqxBIKG4LB"
      },
      "outputs": [],
      "source": [
        "a=[]\n",
        "flag=0\n",
        "for index,row in df.iterrows():\n",
        "  if(row[col_len-1]=='1' or row[col_len-1]==1):\n",
        "    if (flag==0):\n",
        "      flag=1\n",
        "      a.extend(row[0:col_len-1])\n",
        "    for i in range(col_len-1):\n",
        "      if(row[i]==a[i]):\n",
        "        a[i]==row[i]\n",
        "      else:\n",
        "        a[i]='?'"
      ]
    },
    {
      "cell_type": "code",
      "execution_count": 5,
      "metadata": {
        "colab": {
          "base_uri": "https://localhost:8080/"
        },
        "id": "vhOd0zg8Jtah",
        "outputId": "d40558fd-4103-4c99-d3eb-bfe63ff18f2c"
      },
      "outputs": [
        {
          "output_type": "stream",
          "name": "stdout",
          "text": [
            "['Sunny', 'Warm', '?', 'Strong', '?', '?']\n"
          ]
        }
      ],
      "source": [
        "print(a)"
      ]
    },
    {
      "cell_type": "code",
      "execution_count": 6,
      "metadata": {
        "id": "mAHgeo3gDCJz"
      },
      "outputs": [],
      "source": [
        "new_list=list()\n",
        "for i in range(col_len-1):\n",
        "  version_space=set()\n",
        "  for index,row in df.iterrows():\n",
        "    version_space.add(row[i])\n",
        "    version_space.add('$')\n",
        "    version_space.add('?')\n",
        "    \n",
        "  new_list.append(list(version_space))"
      ]
    },
    {
      "cell_type": "code",
      "execution_count": 7,
      "metadata": {
        "colab": {
          "base_uri": "https://localhost:8080/"
        },
        "id": "yHT4ji5mDkEV",
        "outputId": "30826c71-17a9-41ac-b824-aff36e788ade"
      },
      "outputs": [
        {
          "output_type": "execute_result",
          "data": {
            "text/plain": [
              "[['$', 'Rainy', '?', 'Sunny'],\n",
              " ['Warm', '?', 'Cold', '$'],\n",
              " ['Normal', '?', '$', 'High'],\n",
              " ['$', '?', 'Strong'],\n",
              " ['Warm', '?', 'Cool', '$'],\n",
              " ['$', 'Change', '?', 'Same']]"
            ]
          },
          "metadata": {},
          "execution_count": 7
        }
      ],
      "source": [
        "new_list"
      ]
    },
    {
      "cell_type": "code",
      "execution_count": 8,
      "metadata": {
        "colab": {
          "base_uri": "https://localhost:8080/"
        },
        "id": "IoI3YqoPEHVZ",
        "outputId": "ac9fbabd-0800-46bf-a2e7-5d168daf9b56"
      },
      "outputs": [
        {
          "output_type": "stream",
          "name": "stdout",
          "text": [
            "total no element in versionSpace 3072\n"
          ]
        },
        {
          "output_type": "execute_result",
          "data": {
            "text/plain": [
              "[('$', 'Warm', 'Normal', '$', 'Cool', '?'),\n",
              " ('$', 'Warm', 'Normal', '$', 'Cool', 'Same'),\n",
              " ('$', 'Warm', 'Normal', '$', '$', '$'),\n",
              " ('$', 'Warm', 'Normal', '$', '$', 'Change'),\n",
              " ('$', 'Warm', 'Normal', '$', '$', '?'),\n",
              " ('$', 'Warm', 'Normal', '$', '$', 'Same'),\n",
              " ('$', 'Warm', 'Normal', '?', 'Warm', '$'),\n",
              " ('$', 'Warm', 'Normal', '?', 'Warm', 'Change'),\n",
              " ('$', 'Warm', 'Normal', '?', 'Warm', '?'),\n",
              " ('$', 'Warm', 'Normal', '?', 'Warm', 'Same')]"
            ]
          },
          "metadata": {},
          "execution_count": 8
        }
      ],
      "source": [
        "version_space=list(itertools.product(*new_list))\n",
        "print('total no element in versionSpace',len(version_space))\n",
        "version_space[10:20]"
      ]
    },
    {
      "cell_type": "code",
      "execution_count": 9,
      "metadata": {
        "id": "efMLGaLsEP9W"
      },
      "outputs": [],
      "source": [
        "def apply(key,df):\n",
        "  for index,row in df.iterrows():\n",
        "    flag=0\n",
        "    for i in range(col_len-1):\n",
        "      if(key[i]=='?' or key[i]==row[i]):\n",
        "        flag+=1\n",
        "      else:\n",
        "        continue\n",
        "    if(flag==col_len-1 and row[col_len-1]=='1') or (flag!=col_len-1 and row[col_len-1]=='0'):\n",
        "      continue\n",
        "    else:\n",
        "      return 1\n",
        "  return 0\n"
      ]
    },
    {
      "cell_type": "code",
      "execution_count": 12,
      "metadata": {
        "colab": {
          "base_uri": "https://localhost:8080/"
        },
        "id": "aReziNDgE5yb",
        "outputId": "624f51d4-d694-42c8-c773-71138443eff3"
      },
      "outputs": [
        {
          "output_type": "stream",
          "name": "stdout",
          "text": [
            "('?', 'Warm', '?', '?', '?', '?')\n",
            "('?', 'Warm', '?', 'Strong', '?', '?')\n",
            "('Sunny', 'Warm', '?', '?', '?', '?')\n",
            "('Sunny', 'Warm', '?', 'Strong', '?', '?')\n",
            "('Sunny', '?', '?', '?', '?', '?')\n",
            "('Sunny', '?', '?', 'Strong', '?', '?')\n"
          ]
        }
      ],
      "source": [
        "for i in version_space:\n",
        "  p=apply(i,df)\n",
        "  #print(p)\n",
        "  if p==0:\n",
        "    print(i)\n"
      ]
    },
    {
      "cell_type": "code",
      "execution_count": null,
      "metadata": {
        "id": "0wszman-FK8B"
      },
      "outputs": [],
      "source": []
    }
  ],
  "metadata": {
    "colab": {
      "provenance": []
    },
    "kernelspec": {
      "display_name": "Python 3",
      "name": "python3"
    },
    "language_info": {
      "name": "python"
    }
  },
  "nbformat": 4,
  "nbformat_minor": 0
}